{
 "cells": [
  {
   "cell_type": "markdown",
   "metadata": {},
   "source": [
    "Q1. What is Abstraction in OOps? Explain with an example."
   ]
  },
  {
   "cell_type": "markdown",
   "metadata": {},
   "source": [
    "ANSWER = Abstraction in Object-Oriented Programming (OOP) means simplifying complex things by creating a basic outline that focuses on the essential characteristics and actions, while hiding the technical details of how those characteristics and actions work. This way, you can concentrate on what an object can do rather than getting bogged down by how it achieves those capabilities.\n",
    "\n",
    "In OOP, abstraction is usually accomplished by creating abstract classes and methods. Abstract classes are like templates for other classes, and they cannot be used directly. Abstract methods are functions that need to be defined in any class that uses the abstract class, ensuring that specific behavior is implemented in each subclass. This helps in organizing and simplifying code while making it more understandable and maintainable"
   ]
  },
  {
   "cell_type": "code",
   "execution_count": 3,
   "metadata": {},
   "outputs": [
    {
     "name": "stdout",
     "output_type": "stream",
     "text": [
      "Area of the circle: 78.5\n",
      "Area of the rectangle: 24\n"
     ]
    }
   ],
   "source": [
    "from abc import ABC, abstractmethod\n",
    "\n",
    "# Abstract class\n",
    "class Shape(ABC):\n",
    "    @abstractmethod\n",
    "    def area(self):\n",
    "        pass\n",
    "\n",
    "# Concrete subclass 1\n",
    "class Circle(Shape):\n",
    "    def __init__(self, radius):\n",
    "        self.radius = radius\n",
    "\n",
    "    def area(self):\n",
    "        return 3.14 * self.radius ** 2\n",
    "\n",
    "# Concrete subclass 2\n",
    "class Rectangle(Shape):\n",
    "    def __init__(self, length, width):\n",
    "        self.length = length\n",
    "        self.width = width\n",
    "\n",
    "    def area(self):\n",
    "        return self.length * self.width\n",
    "\n",
    "# Create instances of the concrete subclasses\n",
    "circle = Circle(5)\n",
    "rectangle = Rectangle(4, 6)\n",
    "\n",
    "# Call the 'area' method for each shape\n",
    "print(\"Area of the circle:\", circle.area())       # Output: 78.5\n",
    "print(\"Area of the rectangle:\", rectangle.area()) # Output: 24\n"
   ]
  },
  {
   "cell_type": "markdown",
   "metadata": {},
   "source": [
    "Q2. Differentiate between Abstraction and Encapsulation. Explain with an example."
   ]
  },
  {
   "cell_type": "markdown",
   "metadata": {},
   "source": [
    "ANSWER = Abstraction and Encapsulation are two essential principles in Object-Oriented Programming (OOP), and they serve different purposes:\n",
    "\n",
    "Abstraction:\n",
    "\n",
    "Abstraction focuses on simplifying complex reality by modeling classes based on essential properties and behaviors, while hiding the unnecessary details of how those properties and behaviors are implemented.\n",
    "It is about defining a clear and simplified interface for interacting with objects, so you can work with high-level, generalized concepts without worrying about the specifics of their implementation.\n",
    "Abstraction often involves the use of abstract classes and methods, which define a contract for derived classes to implement.\n",
    "It enables you to think in terms of what an object does rather than how it does it.\n",
    "Encapsulation:\n",
    "\n",
    "Encapsulation is the concept of bundling data (attributes) and methods (functions) that operate on that data into a single unit, known as a class.\n",
    "It restricts access to some of an object's components while exposing other components. In other words, it hides the internal details of an object and provides controlled access to its behavior.\n",
    "Encapsulation is about protecting the integrity of the data within an object by using access modifiers (e.g., public, private, protected) to control access to attributes and methods.\n",
    "It focuses on how data and methods are organized and protected within a class.\n",
    "Here's an example illustrating the difference between abstraction and encapsulation:"
   ]
  },
  {
   "cell_type": "code",
   "execution_count": 4,
   "metadata": {},
   "outputs": [
    {
     "name": "stdout",
     "output_type": "stream",
     "text": [
      "Abstraction:\n",
      "Car is starting.\n",
      "Plane is starting.\n",
      "\n",
      "Encapsulation:\n",
      "Account balance: 1300\n"
     ]
    }
   ],
   "source": [
    "# Abstraction\n",
    "from abc import ABC, abstractmethod\n",
    "\n",
    "class Vehicle(ABC):\n",
    "    @abstractmethod\n",
    "    def start(self):\n",
    "        pass\n",
    "\n",
    "class Car(Vehicle):\n",
    "    def start(self):\n",
    "        print(\"Car is starting.\")\n",
    "\n",
    "class Plane(Vehicle):\n",
    "    def start(self):\n",
    "        print(\"Plane is starting.\")\n",
    "\n",
    "# Encapsulation\n",
    "class BankAccount:\n",
    "    def __init__(self, account_number, balance):\n",
    "        self._account_number = account_number  # Encapsulated attribute\n",
    "        self._balance = balance                # Encapsulated attribute\n",
    "\n",
    "    def deposit(self, amount):\n",
    "        if amount > 0:\n",
    "            self._balance += amount\n",
    "\n",
    "    def withdraw(self, amount):\n",
    "        if amount > 0 and amount <= self._balance:\n",
    "            self._balance -= amount\n",
    "\n",
    "    def get_balance(self):\n",
    "        return self._balance\n",
    "\n",
    "car = Car()\n",
    "plane = Plane()\n",
    "\n",
    "account = BankAccount(\"12345\", 1000)\n",
    "account.deposit(500)\n",
    "account.withdraw(200)\n",
    "\n",
    "print(\"Abstraction:\")\n",
    "car.start()   # Output: \"Car is starting.\"\n",
    "plane.start() # Output: \"Plane is starting.\"\n",
    "\n",
    "print(\"\\nEncapsulation:\")\n",
    "print(\"Account balance:\", account.get_balance())  # Output: \"Account balance: 1300\"\n"
   ]
  },
  {
   "cell_type": "markdown",
   "metadata": {},
   "source": [
    "Q3. What is abc module in python? Why is it used?"
   ]
  },
  {
   "cell_type": "markdown",
   "metadata": {},
   "source": [
    "ANSWER = The abc module in Python stands for \"Abstract Base Classes.\" It is used to create abstract base classes and abstract methods, enforcing a structure for derived classes. Abstract base classes provide a way to define a common interface or contract for a group of related classes without specifying their implementation. It promotes code organization and helps ensure that certain methods are implemented by derived classes.\n",
    "\n",
    "The primary purposes and uses of the abc module in Python are as follows:\n",
    "\n",
    "Define Abstract Base Classes (ABCs): The abc module allows you to create abstract base classes using the ABC class and the @abstractmethod decorator. Abstract base classes are used to define a common set of methods and attributes that must be implemented by all classes that inherit from them.\n",
    "\n",
    "Enforce Method Implementation: Abstract methods defined within an abstract base class using the @abstractmethod decorator act as placeholders for methods that must be implemented in concrete (derived) classes. If a derived class does not implement these abstract methods, a TypeError will be raised at runtime.\n",
    "\n",
    "Provide a Clear Interface: Abstract base classes provide a clear interface for the expected behavior of derived classes. This can make your code more predictable and maintainable.\n",
    "\n",
    "Group Related Classes: Abstract base classes are helpful in organizing and grouping related classes that share common functionality and structure.\n",
    "\n",
    "Here's a simplified example of using the abc module to create an abstract base class and enforce the implementation of an abstract method:"
   ]
  },
  {
   "cell_type": "code",
   "execution_count": 5,
   "metadata": {},
   "outputs": [
    {
     "name": "stdout",
     "output_type": "stream",
     "text": [
      "Area of the circle: 78.5\n",
      "Area of the rectangle: 24\n"
     ]
    }
   ],
   "source": [
    "from abc import ABC, abstractmethod\n",
    "\n",
    "class Shape(ABC):\n",
    "    @abstractmethod\n",
    "    def area(self):\n",
    "        pass\n",
    "\n",
    "class Circle(Shape):\n",
    "    def __init__(self, radius):\n",
    "        self.radius = radius\n",
    "\n",
    "    def area(self):\n",
    "        return 3.14 * self.radius ** 2\n",
    "\n",
    "class Rectangle(Shape):\n",
    "    def __init__(self, length, width):\n",
    "        self.length = length\n",
    "        self.width = width\n",
    "\n",
    "    def area(self):\n",
    "        return self.length * self.width\n",
    "\n",
    "# Attempting to create an instance of Shape will raise an error:\n",
    "# shape = Shape()  # TypeError: Can't instantiate abstract class Shape with abstract methods area\n",
    "\n",
    "# Creating instances of concrete subclasses\n",
    "circle = Circle(5)\n",
    "rectangle = Rectangle(4, 6)\n",
    "\n",
    "print(\"Area of the circle:\", circle.area())       # Output: 78.5\n",
    "print(\"Area of the rectangle:\", rectangle.area()) # Output: 24\n"
   ]
  },
  {
   "cell_type": "markdown",
   "metadata": {},
   "source": [
    "Q4. How can we achieve data abstraction?"
   ]
  },
  {
   "cell_type": "markdown",
   "metadata": {},
   "source": [
    "ANSWER = Data abstraction in programming is the concept of hiding the complex details of data and providing a simplified and well-defined interface for working with data. This allows you to manipulate data without needing to understand the intricate inner workings of how the data is stored or processed. In object-oriented programming, data abstraction is often achieved through the use of classes and objects.\n",
    "\n",
    "Here are several ways to achieve data abstraction:\n",
    "\n",
    "Encapsulation: Encapsulation is a fundamental concept that helps achieve data abstraction. It involves bundling data (attributes) and methods (functions) that operate on that data into a class. The data is encapsulated within the class, and external code interacts with the class using well-defined methods, rather than directly accessing or modifying the data. Access modifiers (public, private, protected) can be used to control access to data attributes.\n",
    "\n",
    "Use of Classes: Defining classes to represent real-world entities or data structures is a key part of data abstraction. Classes define the structure and behavior of objects, and they hide the underlying data details from external code.\n",
    "\n",
    "Method Interfaces: Methods within a class provide an interface for interacting with data. By defining methods with clear and concise names, you establish a way to interact with and manipulate the data without needing to understand how it is stored or processed.\n",
    "\n",
    "Accessors (Getters) and Mutators (Setters): Accessor methods (getters) allow you to retrieve the value of an attribute, and mutator methods (setters) allow you to modify the value of an attribute. These methods provide controlled access to attributes and enable data abstraction.\n",
    "\n",
    "Abstract Classes: In some cases, you can use abstract classes and abstract methods to define a contract that derived classes must adhere to. This promotes a consistent way of working with data across different classes.\n",
    "\n",
    "Data Validation and Error Handling: You can include data validation and error handling within the class methods to ensure that data remains consistent and valid.\n",
    "\n",
    "Here's a simple example in Python that demonstrates data abstraction using encapsulation:"
   ]
  },
  {
   "cell_type": "code",
   "execution_count": 6,
   "metadata": {},
   "outputs": [
    {
     "name": "stdout",
     "output_type": "stream",
     "text": [
      "Account balance: 500\n"
     ]
    }
   ],
   "source": [
    "class BankAccount:\n",
    "    def __init__(self, account_number, balance=0):\n",
    "        self._account_number = account_number  # Encapsulated attribute\n",
    "        self._balance = balance                # Encapsulated attribute\n",
    "\n",
    "    def deposit(self, amount):\n",
    "        if amount > 0:\n",
    "            self._balance += amount\n",
    "\n",
    "    def withdraw(self, amount):\n",
    "        if 0 < amount <= self._balance:\n",
    "            self._balance -= amount\n",
    "        else:\n",
    "            print(\"Insufficient funds\")\n",
    "\n",
    "    def get_balance(self):\n",
    "        return self._balance  # Accessor method\n",
    "\n",
    "# Creating an instance of the BankAccount class\n",
    "account = BankAccount(\"12345\")\n",
    "\n",
    "# Using methods to interact with data (encapsulated attributes)\n",
    "account.deposit(1000)\n",
    "account.withdraw(500)\n",
    "print(\"Account balance:\", account.get_balance())  # Output: \"Account balance: 500\"\n"
   ]
  },
  {
   "cell_type": "markdown",
   "metadata": {},
   "source": [
    "Q5. Can we create an instance of an abstract class? Explain your answer."
   ]
  },
  {
   "cell_type": "markdown",
   "metadata": {},
   "source": [
    "answer = No, you cannot create an instance of an abstract class in Python. Abstract classes are meant to serve as templates or blueprints for other classes (concrete classes) and are not intended to be instantiated on their own. Abstract classes are defined using the abc module, typically by inheriting from the ABC class and using the @abstractmethod decorator to declare abstract methods within the class.\n",
    "\n",
    "Abstract methods are placeholders for methods that must be implemented by any concrete class that inherits from the abstract class. When you attempt to create an instance of an abstract class that contains abstract methods, you will encounter a TypeError.\n",
    "\n",
    "Here's an example to illustrate the inability to create an instance of an abstract class:"
   ]
  },
  {
   "cell_type": "code",
   "execution_count": 8,
   "metadata": {},
   "outputs": [
    {
     "ename": "TypeError",
     "evalue": "Can't instantiate abstract class AbstractClass with abstract methods abstract_method",
     "output_type": "error",
     "traceback": [
      "\u001b[0;31m---------------------------------------------------------------------------\u001b[0m",
      "\u001b[0;31mTypeError\u001b[0m                                 Traceback (most recent call last)",
      "\u001b[1;32m/home/saif/Documents/python assignment pw/python assignment opps 3 .ipynb Cell 16\u001b[0m line \u001b[0;36m9\n\u001b[1;32m      <a href='vscode-notebook-cell:/home/saif/Documents/python%20assignment%20pw/python%20assignment%20opps%203%20.ipynb#X23sZmlsZQ%3D%3D?line=5'>6</a>\u001b[0m         \u001b[39mpass\u001b[39;00m\n\u001b[1;32m      <a href='vscode-notebook-cell:/home/saif/Documents/python%20assignment%20pw/python%20assignment%20opps%203%20.ipynb#X23sZmlsZQ%3D%3D?line=7'>8</a>\u001b[0m \u001b[39m# Attempting to create an instance of an abstract class will raise a TypeError\u001b[39;00m\n\u001b[0;32m----> <a href='vscode-notebook-cell:/home/saif/Documents/python%20assignment%20pw/python%20assignment%20opps%203%20.ipynb#X23sZmlsZQ%3D%3D?line=8'>9</a>\u001b[0m abstract_instance \u001b[39m=\u001b[39m AbstractClass()  \u001b[39m# Raises a TypeError\u001b[39;00m\n\u001b[1;32m     <a href='vscode-notebook-cell:/home/saif/Documents/python%20assignment%20pw/python%20assignment%20opps%203%20.ipynb#X23sZmlsZQ%3D%3D?line=10'>11</a>\u001b[0m \u001b[39m# Output:\u001b[39;00m\n\u001b[1;32m     <a href='vscode-notebook-cell:/home/saif/Documents/python%20assignment%20pw/python%20assignment%20opps%203%20.ipynb#X23sZmlsZQ%3D%3D?line=11'>12</a>\u001b[0m \u001b[39m# TypeError: Can't instantiate abstract class AbstractClass with abstract methods abstract_method\u001b[39;00m\n",
      "\u001b[0;31mTypeError\u001b[0m: Can't instantiate abstract class AbstractClass with abstract methods abstract_method"
     ]
    }
   ],
   "source": [
    "from abc import ABC, abstractmethod\n",
    "\n",
    "class AbstractClass(ABC):\n",
    "    @abstractmethod\n",
    "    def abstract_method(self):\n",
    "        pass\n",
    "\n",
    "# Attempting to create an instance of an abstract class will raise a TypeError\n",
    "abstract_instance = AbstractClass()  # Raises a TypeError\n",
    "\n",
    "# Output:\n",
    "# TypeError: Can't instantiate abstract class AbstractClass with abstract methods abstract_method\n"
   ]
  }
 ],
 "metadata": {
  "kernelspec": {
   "display_name": "Python 3",
   "language": "python",
   "name": "python3"
  },
  "language_info": {
   "codemirror_mode": {
    "name": "ipython",
    "version": 3
   },
   "file_extension": ".py",
   "mimetype": "text/x-python",
   "name": "python",
   "nbconvert_exporter": "python",
   "pygments_lexer": "ipython3",
   "version": "3.8.10"
  }
 },
 "nbformat": 4,
 "nbformat_minor": 2
}
